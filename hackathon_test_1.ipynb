{
  "nbformat": 4,
  "nbformat_minor": 0,
  "metadata": {
    "colab": {
      "name": "hackathon-test-1",
      "version": "0.3.2",
      "provenance": [],
      "collapsed_sections": [],
      "include_colab_link": true
    },
    "kernelspec": {
      "name": "python3",
      "display_name": "Python 3"
    }
  },
  "cells": [
    {
      "cell_type": "markdown",
      "metadata": {
        "id": "view-in-github",
        "colab_type": "text"
      },
      "source": [
        "<a href=\"https://colab.research.google.com/github/colaprograms/2019-hackathon-ocr-wymbah/blob/master/hackathon_test_1.ipynb\" target=\"_parent\"><img src=\"https://colab.research.google.com/assets/colab-badge.svg\" alt=\"Open In Colab\"/></a>"
      ]
    },
    {
      "cell_type": "code",
      "metadata": {
        "id": "GLY_pyqR1ISb",
        "colab_type": "code",
        "outputId": "5976b1a3-dba1-4027-f5a5-7cb8e4362493",
        "colab": {
          "base_uri": "https://localhost:8080/",
          "height": 136
        }
      },
      "source": [
        "!git clone https://github.com/Charitable-Analytics-International/AI4Good---Meza-OCR-Challenge"
      ],
      "execution_count": 0,
      "outputs": [
        {
          "output_type": "stream",
          "text": [
            "Cloning into 'AI4Good---Meza-OCR-Challenge'...\n",
            "remote: Enumerating objects: 7253, done.\u001b[K\n",
            "remote: Counting objects: 100% (7253/7253), done.\u001b[K\n",
            "remote: Compressing objects: 100% (6863/6863), done.\u001b[K\n",
            "remote: Total 7253 (delta 391), reused 7252 (delta 390), pack-reused 0\n",
            "Receiving objects: 100% (7253/7253), 8.14 MiB | 16.00 MiB/s, done.\n",
            "Resolving deltas: 100% (391/391), done.\n"
          ],
          "name": "stdout"
        }
      ]
    },
    {
      "cell_type": "code",
      "metadata": {
        "id": "dyQNvCsngla1",
        "colab_type": "code",
        "colab": {}
      },
      "source": [
        ""
      ],
      "execution_count": 0,
      "outputs": []
    },
    {
      "cell_type": "code",
      "metadata": {
        "id": "PU0Zz6b3gi3V",
        "colab_type": "code",
        "colab": {}
      },
      "source": [
        ""
      ],
      "execution_count": 0,
      "outputs": []
    },
    {
      "cell_type": "markdown",
      "metadata": {
        "id": "XSwfPz2ngjVU",
        "colab_type": "text"
      },
      "source": [
        ""
      ]
    },
    {
      "cell_type": "code",
      "metadata": {
        "id": "cTqtOoLS1PAi",
        "colab_type": "code",
        "colab": {}
      },
      "source": [
        "import os, torch, re, sys\n",
        "import numpy as np\n",
        "import matplotlib.pyplot as p\n",
        "import random, PIL"
      ],
      "execution_count": 0,
      "outputs": []
    },
    {
      "cell_type": "code",
      "metadata": {
        "id": "fFr0gEuBULVc",
        "colab_type": "code",
        "outputId": "aeb7abed-f67a-495e-b9b2-c806649ade6d",
        "colab": {
          "base_uri": "https://localhost:8080/",
          "height": 54
        }
      },
      "source": [
        "from google.colab import drive\n",
        "drive.mount(\"/content/gdrive\")"
      ],
      "execution_count": 0,
      "outputs": [
        {
          "output_type": "stream",
          "text": [
            "Drive already mounted at /content/gdrive; to attempt to forcibly remount, call drive.mount(\"/content/gdrive\", force_remount=True).\n"
          ],
          "name": "stdout"
        }
      ]
    },
    {
      "cell_type": "code",
      "metadata": {
        "id": "clQnNsOKRViB",
        "colab_type": "code",
        "colab": {}
      },
      "source": [
        "PATH = \"/content/gdrive/My Drive/code/\"\n",
        "TRAINING_PATH = \"/content/AI4Good---Meza-OCR-Challenge\"\n",
        "\n",
        "def my(*f):\n",
        "  return os.path.join(PATH, *f)\n",
        "def data_file(*f):\n",
        "  return os.path.join(TRAINING_PATH, \"cell_images\", *f)\n",
        "def train_file(*f):\n",
        "  return data_file(\"training_set\", *f)\n",
        "def valid_file(*f):\n",
        "  return data_file(\"validation_set\", *f)\n",
        "\n",
        "def parse(*filename):\n",
        "  f = open(data_file(*filename))\n",
        "  first = True\n",
        "  line = next(f)\n",
        "  assert line == \"filename;value\\n\"\n",
        "  out = {}\n",
        "  for line in f:\n",
        "    filename, value = line.strip().split(\";\")\n",
        "    out[filename] = value\n",
        "    if not re.match(r\"-?[0-9]*[.,]?[0-9]*\", value):\n",
        "      print(\"bad value:\", value)\n",
        "      raise Exception()\n",
        "  return out\n",
        "\n",
        "training = parse(\"training_set_values.txt\")\n",
        "validate = parse(\"validation_set_values.txt\")"
      ],
      "execution_count": 0,
      "outputs": []
    },
    {
      "cell_type": "code",
      "metadata": {
        "id": "zbiSSTC_S5yx",
        "colab_type": "code",
        "colab": {}
      },
      "source": [
        ""
      ],
      "execution_count": 0,
      "outputs": []
    },
    {
      "cell_type": "code",
      "metadata": {
        "id": "Q5lE37fJNLbZ",
        "colab_type": "code",
        "colab": {}
      },
      "source": [
        "training = parse(\"training_set_values.txt\")\n",
        "train_items = list(training.items())"
      ],
      "execution_count": 0,
      "outputs": []
    },
    {
      "cell_type": "code",
      "metadata": {
        "id": "tNBRZvxR3KMW",
        "colab_type": "code",
        "outputId": "c5d760e9-2125-4073-fd27-e4f65ad62b0e",
        "colab": {
          "base_uri": "https://localhost:8080/",
          "height": 34
        }
      },
      "source": [
        "training[\"4.jpg\"]"
      ],
      "execution_count": 0,
      "outputs": [
        {
          "output_type": "execute_result",
          "data": {
            "text/plain": [
              "'10,200'"
            ]
          },
          "metadata": {
            "tags": []
          },
          "execution_count": 36
        }
      ]
    }
  ]
}