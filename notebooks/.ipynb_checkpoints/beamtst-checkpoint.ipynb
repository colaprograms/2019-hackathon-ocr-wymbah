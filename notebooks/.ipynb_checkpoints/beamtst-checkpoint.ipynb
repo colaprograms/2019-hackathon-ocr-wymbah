{
 "cells": [
  {
   "cell_type": "code",
   "execution_count": 4,
   "metadata": {},
   "outputs": [],
   "source": [
    "import torch, os\n",
    "import numpy as np\n",
    "from importlib import reload\n",
    "os.chdir(\"/home/gibson/sdb2/cola/ass/balls/2019-hackathon-ocr-wymbah\")"
   ]
  },
  {
   "cell_type": "code",
   "execution_count": 134,
   "metadata": {},
   "outputs": [],
   "source": [
    "import nets.ctcnet\n",
    "reload(nets.ctcnet)\n",
    "from nets.ctcnet import *\n",
    "\n",
    "import util.beam\n",
    "reload(util.beam)\n",
    "from util.beam import BeamSearch\n",
    "\n",
    "from util.file import FileHolder\n",
    "fh = FileHolder()\n",
    "\n",
    "from util.chars import chars, nchars, idx"
   ]
  },
  {
   "cell_type": "code",
   "execution_count": 140,
   "metadata": {},
   "outputs": [
    {
     "ename": "NameError",
     "evalue": "name 'CTCModel4' is not defined",
     "output_type": "error",
     "traceback": [
      "\u001b[0;31m---------------------------------------------------------------------------\u001b[0m",
      "\u001b[0;31mNameError\u001b[0m                                 Traceback (most recent call last)",
      "\u001b[0;32m<ipython-input-140-7e78acbdd3f0>\u001b[0m in \u001b[0;36m<module>\u001b[0;34m\u001b[0m\n\u001b[1;32m     14\u001b[0m   \u001b[0;32mreturn\u001b[0m \u001b[0minp\u001b[0m\u001b[0;34m,\u001b[0m \u001b[0moutp\u001b[0m\u001b[0;34m\u001b[0m\u001b[0;34m\u001b[0m\u001b[0m\n\u001b[1;32m     15\u001b[0m \u001b[0;34m\u001b[0m\u001b[0m\n\u001b[0;32m---> 16\u001b[0;31m \u001b[0mctcmodel\u001b[0m \u001b[0;34m=\u001b[0m \u001b[0mCTCModel4\u001b[0m\u001b[0;34m(\u001b[0m\u001b[0;34m)\u001b[0m\u001b[0;34m.\u001b[0m\u001b[0mcuda\u001b[0m\u001b[0;34m(\u001b[0m\u001b[0;34m)\u001b[0m\u001b[0;34m\u001b[0m\u001b[0;34m\u001b[0m\u001b[0m\n\u001b[0m\u001b[1;32m     17\u001b[0m \u001b[0mcheckpoint\u001b[0m \u001b[0;34m=\u001b[0m \u001b[0mtorch\u001b[0m\u001b[0;34m.\u001b[0m\u001b[0mload\u001b[0m\u001b[0;34m(\u001b[0m\u001b[0;34m\"checkpoint-0022-0.59-CTCModel4\"\u001b[0m\u001b[0;34m)\u001b[0m\u001b[0;34m\u001b[0m\u001b[0;34m\u001b[0m\u001b[0m\n\u001b[1;32m     18\u001b[0m \u001b[0mctcmodel\u001b[0m\u001b[0;34m.\u001b[0m\u001b[0mload_state_dict\u001b[0m\u001b[0;34m(\u001b[0m\u001b[0mcheckpoint\u001b[0m\u001b[0;34m[\u001b[0m\u001b[0;34m'ctcmodel'\u001b[0m\u001b[0;34m]\u001b[0m\u001b[0;34m)\u001b[0m\u001b[0;34m\u001b[0m\u001b[0;34m\u001b[0m\u001b[0m\n",
      "\u001b[0;31mNameError\u001b[0m: name 'CTCModel4' is not defined"
     ]
    }
   ],
   "source": [
    "def to_tensor(buf):\n",
    "  buf -= 0.5\n",
    "  buf *= 2\n",
    "  #buf -= np.mean(buf, axis=(0, 1, 2))[None, None, None, :]\n",
    "  #buf /= np.std(buf, axis=(0, 1, 2))[None, None, None, :]\n",
    "  #buf -= np.array([0.485, 0.456, 0.406])[None, None, None, :]\n",
    "  #buf /= np.array([0.229, 0.224, 0.225])[None, None, None, :]\n",
    "  return torch.tensor(buf, dtype=torch.float32).permute(0, 3, 1, 2)\n",
    "\n",
    "def get_batch(batchsize, validation=False):\n",
    "  inp, outp = fh.get_batch(batchsize, validation)\n",
    "  inp = np.stack(inp)\n",
    "  inp = to_tensor(inp)\n",
    "  return inp, outp\n",
    "\n",
    "ctcmodel = CTCModel4().cuda()\n",
    "checkpoint = torch.load(\"checkpoint-0022-0.59-CTCModel4\")\n",
    "ctcmodel.load_state_dict(checkpoint['ctcmodel'])\n",
    "ctcmodel.eval()\n",
    "\n",
    "def getone():\n",
    "    inp, outp = get_batch(1, validation=True)\n",
    "    log = ctcmodel(inp)\n",
    "    log = log.detach().cpu().numpy()\n",
    "    return inp, outp, log\n",
    "\n",
    "import matplotlib.pyplot as p\n",
    "\n",
    "print(outp[0])\n",
    "p.imshow(inp.squeeze(0).permute(1, 2, 0))\n",
    "p.show()"
   ]
  },
  {
   "cell_type": "code",
   "execution_count": 136,
   "metadata": {},
   "outputs": [],
   "source": [
    "def beam(log, nbeams):\n",
    "    beas = BeamSearch(nbeams)\n",
    "    for j in range(log.shape[1]):\n",
    "        beas.add_logit(log[0, j, :])\n",
    "    return beas.topbeams()"
   ]
  },
  {
   "cell_type": "code",
   "execution_count": 137,
   "metadata": {},
   "outputs": [],
   "source": [
    "def tets():\n",
    "    inp, outp, log = getone()\n",
    "    answer = beam(log, 8)\n",
    "    if answer[0].str() != outp[0]:\n",
    "        print(\"beams:\", answer)\n",
    "        print(\"correct:\", outp)\n",
    "        return 0\n",
    "    else:\n",
    "        return 1"
   ]
  },
  {
   "cell_type": "code",
   "execution_count": 138,
   "metadata": {},
   "outputs": [
    {
     "name": "stdout",
     "output_type": "stream",
     "text": [
      "beams: [beam(-70 , -0.2628), beam(-709 , -1.8896), beam(-790 , -3.2064), beam(670 , -4.1245), beam(-79 , -4.7650), beam(6709 , -5.7478), beam(170 , -6.2916), beam(870 , -6.3819)]\n",
      "correct: ['-79']\n",
      "beams: [beam(121 , -0.0004), beam(181 , -9.0999), beam(131 , -9.2662), beam(21 , -10.1180), beam(12 , -10.4062), beam(1217 , -10.7438), beam(721 , -10.7602), beam(1212 , -15.9892)]\n",
      "correct: ['12,1']\n",
      "beams: [beam(20 , -0.0597), beam(210 , -2.8546), beam(220 , -8.9677), beam(10 , -9.3477), beam(70 , -10.2155), beam(30 , -10.7995), beam(200 , -17.9168), beam(200, -18.2666)]\n",
      "correct: ['210']\n",
      "beams: [beam(129 , -0.6699), beam(12.9 , -0.7329), beam(12,9 , -5.0345), beam(1209 , -7.3609), beam(1219 , -8.6877), beam(1239 , -10.1939), beam(120 , -11.0029), beam(12.0 , -11.0669)]\n",
      "correct: ['12.9']\n",
      "beams: [beam(121 , -0.0004), beam(181 , -8.8733), beam(21 , -9.3918), beam(131 , -9.9522), beam(721 , -10.0981), beam(12 , -10.1643), beam(127 , -10.6725), beam(1211 , -15.5862)]\n",
      "correct: ['12,1']\n",
      "beams: [beam(125 , -0.3903), beam(1235 , -1.9244), beam(135 , -2.2321), beam(15 , -2.8759), beam(1285 , -5.4869), beam(185 , -5.6691), beam(126 , -11.1048), beam(123 , -11.7234)]\n",
      "correct: ['135']\n",
      "beams: [beam(185 , -1.0701), beam(18,5 , -1.0877), beam(18.5 , -1.1440), beam(125 , -8.2881), beam(12,5 , -8.3057), beam(12.5 , -8.3620), beam(1805 , -9.0984), beam(1815 , -9.6467)]\n",
      "correct: ['18.5']\n",
      "beams: [beam(531 , -0.6851), beam(5,31 , -1.3030), beam(631 , -2.2069), beam(6,31 , -2.8248), beam(031 , -4.1838), beam(931 , -4.7297), beam(0,31 , -4.8017), beam(9,31 , -5.3477)]\n",
      "correct: ['1,31']\n",
      "beams: [beam(1,24 , -0.4474), beam(1,34 , -1.4844), beam(1,94 , -2.6100), beam(124 , -3.9685), beam(,24 , -4.1164), beam(134 , -5.0055), beam(,34 , -5.1534), beam(194 , -6.1311)]\n",
      "correct: ['1,54']\n",
      "beams: [beam(7200, -1.2811), beam(72300, -1.6601), beam(7300, -1.9086), beam(7,200, -2.0330), beam(720 , -5.4857), beam(7230 , -5.8647), beam(730 , -6.1135), beam(7,20 , -6.2378)]\n",
      "correct: ['7,200']\n",
      "beams: [beam(250 , -0.1602), beam(230 , -1.9214), beam(280 , -7.0599), beam(20 , -7.8972), beam(290 , -8.5533), beam(2250 , -10.3880), beam(2500 , -17.3801), beam(2502 , -17.6790)]\n",
      "correct: ['230']\n",
      "beams: [beam(260 , -0.1370), beam(26.0 , -2.4255), beam(26,0 , -3.2752), beam(2610 , -7.4958), beam(2650 , -8.2975), beam(200 , -8.7970), beam(2600 , -17.1239), beam(2600, -17.7642)]\n",
      "correct: ['26.0']\n",
      "beams: [beam(14 , -0.5037), beam(134 , -1.9268), beam(24 , -2.5366), beam(124 , -3.1903), beam(-4 , -3.2908), beam(1 , -4.0399), beam(234 , -4.5203), beam(13 , -5.4630)]\n",
      "correct: ['134']\n",
      "beams: [beam(40 , -0.9836), beam(20 , -1.0209), beam(70 , -1.3924), beam(10 , -4.1986), beam(0 , -7.1843), beam(402, -17.1423), beam(202, -17.1796), beam(400 , -17.2083)]\n",
      "correct: ['20']\n",
      "beams: [beam(140 , -0.0513), beam(149 , -3.3745), beam(148 , -4.9747), beam(146 , -5.5251), beam(14 , -6.5617), beam(10 , -6.9458), beam(145 , -7.0474), beam(144 , -7.9348)]\n",
      "correct: ['142']\n",
      "beams: [beam(168 , -0.5020), beam(16.8 , -0.9800), beam(16,8 , -4.3279), beam(16,.8 , -6.2392), beam(1608 , -7.3981), beam(1658 , -7.4039), beam(169 , -10.1387), beam(16.9 , -10.6167)]\n",
      "correct: ['16.8']\n",
      "beams: [beam(77 , -0.0427), beam(71 , -3.2057), beam(72 , -7.8789), beam(27 , -8.3566), beam(47 , -8.5245), beam(17 , -9.5490), beam(7- , -9.6107), beam(79 , -9.8076)]\n",
      "correct: ['7.7']\n",
      "beams: [beam(1,5 , -0.5430), beam(10,5 , -0.9125), beam(105 , -4.6799), beam(15,5 , -5.4263), beam(105,5 , -7.0406), beam(15 , -7.7396), beam(1,0 , -11.0521), beam(10,0 , -11.4216)]\n",
      "correct: ['15,5']\n",
      "beams: [beam(10 , -0.3931), beam(100 , -1.2359), beam(00 , -4.2318), beam(0 , -4.9595), beam(1000 , -5.5122), beam(100, -16.6631), beam(1000, -17.5059), beam(109 , -17.9928)]\n",
      "correct: ['100']\n",
      "beams: [beam(35 , -0.0083), beam(55 , -4.9960), beam(30 , -7.6374), beam(85 , -7.9589), beam(39 , -8.0819), beam(36 , -9.2666), beam(33 , -9.3534), beam(5 , -9.4398)]\n",
      "correct: ['39']\n",
      "beams: [beam(102 , -0.6523), beam(152 , -1.3475), beam(10.2 , -1.9335), beam(15.2 , -2.6286), beam(10,2 , -7.4583), beam(15,2 , -8.1534), beam(12 , -8.2156), beam(192 , -8.3453)]\n",
      "correct: ['15.2']\n",
      "beams: [beam(1 , -0.1748), beam(11 , -1.8328), beam(7 , -8.9116), beam( , -8.9250), beam(17 , -9.8786), beam(71 , -10.5941), beam(14 , -11.4525), beam(12 , -18.0351)]\n",
      "correct: ['11']\n"
     ]
    }
   ],
   "source": [
    "count = sum(tets() for j in range(100)) / 100"
   ]
  },
  {
   "cell_type": "code",
   "execution_count": 139,
   "metadata": {},
   "outputs": [
    {
     "data": {
      "text/plain": [
       "0.78"
      ]
     },
     "execution_count": 139,
     "metadata": {},
     "output_type": "execute_result"
    }
   ],
   "source": [
    "count"
   ]
  },
  {
   "cell_type": "code",
   "execution_count": null,
   "metadata": {},
   "outputs": [],
   "source": []
  }
 ],
 "metadata": {
  "kernelspec": {
   "display_name": "Python 3",
   "language": "python",
   "name": "python3"
  },
  "language_info": {
   "codemirror_mode": {
    "name": "ipython",
    "version": 3
   },
   "file_extension": ".py",
   "mimetype": "text/x-python",
   "name": "python",
   "nbconvert_exporter": "python",
   "pygments_lexer": "ipython3",
   "version": "3.7.3"
  }
 },
 "nbformat": 4,
 "nbformat_minor": 2
}
