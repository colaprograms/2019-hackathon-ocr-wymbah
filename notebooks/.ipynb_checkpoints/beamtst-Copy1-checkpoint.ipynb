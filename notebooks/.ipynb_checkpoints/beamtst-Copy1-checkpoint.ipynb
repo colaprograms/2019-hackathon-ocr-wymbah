{
 "cells": [
  {
   "cell_type": "code",
   "execution_count": 4,
   "metadata": {},
   "outputs": [],
   "source": [
    "import torch, os\n",
    "import numpy as np\n",
    "from importlib import reload\n",
    "os.chdir(\"/home/gibson/sdb2/cola/ass/balls/2019-hackathon-ocr-wymbah\")"
   ]
  },
  {
   "cell_type": "code",
   "execution_count": 81,
   "metadata": {},
   "outputs": [],
   "source": [
    "import nets.ctcnet\n",
    "reload(nets.ctcnet)\n",
    "from nets.ctcnet import CTCModel\n",
    "\n",
    "import util.beam\n",
    "reload(util.beam)\n",
    "from util.beam import BeamSearch\n",
    "\n",
    "from util.file import FileHolder\n",
    "fh = FileHolder()\n",
    "\n",
    "from util.chars import chars, nchars, idx"
   ]
  },
  {
   "cell_type": "code",
   "execution_count": 87,
   "metadata": {},
   "outputs": [
    {
     "name": "stderr",
     "output_type": "stream",
     "text": [
      "Clipping input data to the valid range for imshow with RGB data ([0..1] for floats or [0..255] for integers).\n"
     ]
    },
    {
     "name": "stdout",
     "output_type": "stream",
     "text": [
      "22\n"
     ]
    },
    {
     "data": {
      "image/png": "[encoded data removed]",
      "text/plain": [
       "<Figure size 432x288 with 1 Axes>"
      ]
     },
     "metadata": {
      "needs_background": "light"
     },
     "output_type": "display_data"
    }
   ],
   "source": [
    "def to_tensor(buf):\n",
    "  buf -= 0.5\n",
    "  buf *= 2\n",
    "  #buf -= np.mean(buf, axis=(0, 1, 2))[None, None, None, :]\n",
    "  #buf /= np.std(buf, axis=(0, 1, 2))[None, None, None, :]\n",
    "  #buf -= np.array([0.485, 0.456, 0.406])[None, None, None, :]\n",
    "  #buf /= np.array([0.229, 0.224, 0.225])[None, None, None, :]\n",
    "  return torch.tensor(buf, dtype=torch.float32).permute(0, 3, 1, 2)\n",
    "\n",
    "def get_batch(batchsize, validation=False):\n",
    "  inp, outp = fh.get_batch(batchsize, validation)\n",
    "  inp = np.stack(inp)\n",
    "  inp = to_tensor(inp)\n",
    "  return inp, outp\n",
    "\n",
    "ctcmodel = CTCModel().cuda()\n",
    "checkpoint = torch.load(\"checkpoint-0028-0.62-CNNModel\")\n",
    "ctcmodel.load_state_dict(checkpoint['ctcmodel'])\n",
    "ctcmodel.eval()\n",
    "\n",
    "def getone():\n",
    "    inp, outp = get_batch(1, validation=True)\n",
    "    log = ctcmodel(inp)\n",
    "    log = log.detach().cpu().numpy()\n",
    "    return inp, outp, log\n",
    "\n",
    "import matplotlib.pyplot as p\n",
    "\n",
    "print(outp[0])\n",
    "p.imshow(inp.squeeze(0).permute(1, 2, 0))\n",
    "p.show()"
   ]
  },
  {
   "cell_type": "code",
   "execution_count": 88,
   "metadata": {},
   "outputs": [],
   "source": [
    "def beam(log, nbeams):\n",
    "    beas = BeamSearch(nbeams)\n",
    "    for j in range(log.shape[1]):\n",
    "        beas.add_logit(log[0, j, :])\n",
    "    return beas.topbeams()"
   ]
  },
  {
   "cell_type": "code",
   "execution_count": 92,
   "metadata": {},
   "outputs": [],
   "source": [
    "def tets():\n",
    "    inp, outp, log = getone()\n",
    "    answer = beam(log, 8)\n",
    "    if answer[0].str() != outp[0]:\n",
    "        print(\"beams:\", answer)\n",
    "        print(\"correct:\", outp)\n",
    "        return 0\n",
    "    else:\n",
    "        return 1"
   ]
  },
  {
   "cell_type": "code",
   "execution_count": null,
   "metadata": {},
   "outputs": [],
   "source": [
    "correct = sum(tets() for i in range(10000)) / 10000\n",
    "correct"
   ]
  },
  {
   "cell_type": "code",
   "execution_count": 59,
   "metadata": {},
   "outputs": [
    {
     "data": {
      "text/plain": [
       "['147']"
      ]
     },
     "execution_count": 59,
     "metadata": {},
     "output_type": "execute_result"
    }
   ],
   "source": [
    "outp"
   ]
  },
  {
   "cell_type": "code",
   "execution_count": null,
   "metadata": {},
   "outputs": [],
   "source": []
  }
 ],
 "metadata": {
  "kernelspec": {
   "display_name": "Python 3",
   "language": "python",
   "name": "python3"
  },
  "language_info": {
   "codemirror_mode": {
    "name": "ipython",
    "version": 3
   },
   "file_extension": ".py",
   "mimetype": "text/x-python",
   "name": "python",
   "nbconvert_exporter": "python",
   "pygments_lexer": "ipython3",
   "version": "3.7.3"
  }
 },
 "nbformat": 4,
 "nbformat_minor": 2
}
