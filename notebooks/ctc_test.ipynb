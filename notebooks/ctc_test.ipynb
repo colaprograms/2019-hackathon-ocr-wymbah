{
  "nbformat": 4,
  "nbformat_minor": 0,
  "metadata": {
    "colab": {
      "name": "ctc-test.ipynb",
      "version": "0.3.2",
      "provenance": [],
      "include_colab_link": true
    },
    "kernelspec": {
      "name": "python3",
      "display_name": "Python 3"
    },
    "accelerator": "GPU"
  },
  "cells": [
    {
      "cell_type": "markdown",
      "metadata": {
        "id": "view-in-github",
        "colab_type": "text"
      },
      "source": [
        "<a href=\"https://colab.research.google.com/github/colaprograms/2019-hackathon-ocr-wymbah/blob/master/notebooks/ctc_test.ipynb\" target=\"_parent\"><img src=\"https://colab.research.google.com/assets/colab-badge.svg\" alt=\"Open In Colab\"/></a>"
      ]
    },
    {
      "cell_type": "code",
      "metadata": {
        "id": "47zAK9Hd86yi",
        "colab_type": "code",
        "colab": {}
      },
      "source": [
        "import os, torch, re, sys\n",
        "import numpy as np\n",
        "import matplotlib.pyplot as p\n",
        "import random, PIL"
      ],
      "execution_count": 0,
      "outputs": []
    },
    {
      "cell_type": "code",
      "metadata": {
        "id": "nnmS2Npz9SDs",
        "colab_type": "code",
        "outputId": "e89d6ac8-0bff-4a9a-9f20-e5df811354ea",
        "colab": {
          "base_uri": "https://localhost:8080/",
          "height": 88
        }
      },
      "source": [
        "os.chdir(\"/content\")\n",
        "if not os.path.exists(\"/content/AI4Good---Meza-OCR-Challenge\"):\n",
        "  !git clone https://github.com/Charitable-Analytics-International/AI4Good---Meza-OCR-Challenge\n",
        "if not os.path.exists(\"/content/2019-hackathon-ocr-wymbah\"):\n",
        "  !git clone https://github.com/colaprograms/2019-hackathon-ocr-wymbah\n",
        "os.chdir(\"/content/2019-hackathon-ocr-wymbah\")\n",
        "!git pull\n",
        "\n",
        "from importlib import reload\n",
        "import util.file\n",
        "reload(util.file)\n",
        "\n",
        "from google.colab import drive\n",
        "drive.mount(\"/content/gdrive\")\n",
        "try:\n",
        "  os.mkdir(\"/content/gdrive/My Drive/code\")\n",
        "except:\n",
        "  pass\n",
        "try:\n",
        "  os.mkdir(\"/content/gdrive/My Drive/code/checkpoint\")\n",
        "except:\n",
        "  pass"
      ],
      "execution_count": 88,
      "outputs": [
        {
          "output_type": "stream",
          "text": [
            "Already up to date.\n",
            "Using path /content/AI4Good---Meza-OCR-Challenge\n",
            "Drive already mounted at /content/gdrive; to attempt to forcibly remount, call drive.mount(\"/content/gdrive\", force_remount=True).\n"
          ],
          "name": "stdout"
        }
      ]
    },
    {
      "cell_type": "code",
      "metadata": {
        "id": "RBrQBRzb9Vyp",
        "colab_type": "code",
        "outputId": "089c756f-3935-453b-a274-7f9b291c8783",
        "colab": {
          "base_uri": "https://localhost:8080/",
          "height": 169
        }
      },
      "source": [
        "from util.file import FileHolder\n",
        "fh = FileHolder()\n",
        "inp, outp = fh.get_batch(1)\n",
        "\n",
        "for file, val in zip(inp, outp):\n",
        "  print(val)\n",
        "  p.imshow(file)\n",
        "  p.show()\n",
        "\n",
        "def to_tensor(buf):\n",
        "  buf = 2*buf - 1\n",
        "  return torch.tensor(buf, dtype=torch.float32).permute(0, 3, 1, 2)\n",
        "\n",
        "def get_batch(batchsize, validation=False):\n",
        "  inp, outp = fh.get_batch(batchsize, validation)\n",
        "  inp = np.stack(inp)\n",
        "  inp = to_tensor(inp)\n",
        "  return inp, outp\n",
        "\n",
        "get_batch(20)[0].shape"
      ],
      "execution_count": 77,
      "outputs": [
        {
          "output_type": "stream",
          "text": [
            "1\n"
          ],
          "name": "stdout"
        },
        {
          "output_type": "display_data",
          "data": {
            "image/png": "[encoded data removed]",
            "text/plain": [
              "<Figure size 432x288 with 1 Axes>"
            ]
          },
          "metadata": {
            "tags": []
          }
        },
        {
          "output_type": "execute_result",
          "data": {
            "text/plain": [
              "torch.Size([20, 3, 64, 256])"
            ]
          },
          "metadata": {
            "tags": []
          },
          "execution_count": 77
        }
      ]
    },
    {
      "cell_type": "code",
      "metadata": {
        "id": "kLBd53Ar990X",
        "colab_type": "code",
        "colab": {}
      },
      "source": [
        "import torch.nn as nn\n",
        "import torch.optim as optim\n",
        "import torchvision\n",
        "\n"
      ],
      "execution_count": 0,
      "outputs": []
    },
    {
      "cell_type": "code",
      "metadata": {
        "id": "gj9U2jENAnfQ",
        "colab_type": "code",
        "outputId": "36111855-0da4-43b2-ffdd-028b23c2f728",
        "colab": {
          "base_uri": "https://localhost:8080/",
          "height": 2060
        }
      },
      "source": [
        "chars = \" 0123456789-,.\"\n",
        "nchars = len(chars)\n",
        "idx = {}\n",
        "for i, c in enumerate(chars): idx[c] = i\n",
        "\n",
        "ntraining = len(fh.info['training'])\n",
        "\n",
        "BATCH_SIZE = 64\n",
        "\n",
        "def maketarget(outputs):\n",
        "  classes = [torch.tensor([idx[c] for c in string], dtype=torch.long) for string in outputs]\n",
        "  lengths = [len(string) for string in outputs]\n",
        "  return nn.utils.rnn.pack_sequence(classes, enforce_sorted=False), lengths\n",
        "\n",
        "trainloss = []\n",
        "validloss = []\n",
        "def run():\n",
        "  resnet = torchvision.models.resnet.resnet34(True)\n",
        "\n",
        "  \"Cut off the last two layers\"\n",
        "  def forward(self, x):\n",
        "    x = self.conv1(x)\n",
        "    x = self.bn1(x)\n",
        "    x = self.relu(x)\n",
        "    x = self.maxpool(x)\n",
        "\n",
        "    x = self.layer1(x)\n",
        "    x = self.layer2(x)\n",
        "    #x = self.layer3(x)\n",
        "    #x = self.layer4(x)\n",
        "\n",
        "    return x\n",
        "\n",
        "  import types\n",
        "  resnet.forward = types.MethodType(forward, resnet)\n",
        "  resnet = resnet.cuda()\n",
        "  for param in resnet.parameters():\n",
        "    param.requires_grad = False\n",
        "  lstm1 = nn.LSTM(128, 64, batch_first=True, dropout=0.1, bidirectional=True, num_layers=1).cuda()\n",
        "  down = nn.Conv1d(128, 128, 3, stride=2, padding=1).cuda()\n",
        "  layernorm3 = nn.LayerNorm((128,)).cuda()\n",
        "  lstm2 = nn.LSTM(128, 64, batch_first=True, bidirectional=True).cuda()\n",
        "  layernorm1 = nn.LayerNorm((128,)).cuda()\n",
        "  dense1 = nn.Linear(128, 64).cuda()\n",
        "  layernorm2 = nn.LayerNorm((64,)).cuda()\n",
        "  dense2 = nn.Linear(64, nchars).cuda()\n",
        "  def params():\n",
        "    yield from lstm1.parameters()\n",
        "    yield from lstm2.parameters()\n",
        "    yield from down.parameters()\n",
        "    yield from dense1.parameters()\n",
        "    yield from dense2.parameters()\n",
        "  avgpool = nn.AdaptiveAvgPool2d((1, 32)).cuda()\n",
        "  ctc = nn.CTCLoss(reduction='sum').cuda()\n",
        "  \n",
        "  optimizer = optim.SGD(params(), lr=0.001, momentum=0.9)\n",
        "\n",
        "  def input_to_string(inp):\n",
        "    assert inp.shape[0] == 1\n",
        "    inp = inp.detach().cpu().numpy()\n",
        "    def randchoice(p):\n",
        "      p = np.exp(p)\n",
        "      u = random.random()\n",
        "      for i in range(p.shape[0]):\n",
        "        u -= p[i]\n",
        "        if u < 0:\n",
        "          return i\n",
        "      raise Exception(\"not a probability distribution\")\n",
        "    return \"\".join(chars[randchoice(inp[0, j, :])] for j in range(inp.shape[1]))\n",
        "  def crunch_input(inp):\n",
        "    inp = resnet(inp.cuda())\n",
        "    inp = avgpool(inp)\n",
        "    inp = inp.reshape([-1, 128, 32]).permute(0, 2, 1)\n",
        "    inp, _ = lstm1(inp)\n",
        "    inp = inp.permute(0, 2, 1)\n",
        "    inp = down(inp)\n",
        "    inp = inp.permute(0, 2, 1)\n",
        "    inp = layernorm3(inp)\n",
        "    inp, _ = lstm2(inp)\n",
        "    inp = layernorm1(inp)\n",
        "    #print(inp.shape)\n",
        "    inp = dense1(inp)\n",
        "    #print(inp.shape)\n",
        "    inp = layernorm2(inp)\n",
        "    #print(inp.shape)\n",
        "    inp = dense2(inp)\n",
        "    #print(inp.shape)\n",
        "    inp = nn.functional.log_softmax(inp, dim=2)\n",
        "    return inp\n",
        "  def crunch(inp, outp):\n",
        "    inp = crunch_input(inp)\n",
        "    inp = inp.permute(1, 0, 2)\n",
        "    input_lengths = [16 for i in range(inp.shape[1])]\n",
        "    target, target_lengths = maketarget(outp)\n",
        "    input_lengths, target_lengths = map(tuple, [input_lengths, target_lengths])\n",
        "    #print(inp.shape)\n",
        "    loss = ctc(inp, target.data.cuda(), input_lengths, target_lengths)\n",
        "    return loss\n",
        "  for epoch in range(999999):\n",
        "    running_loss = 0.0\n",
        "    length = 0\n",
        "    print(\"Example output:\")\n",
        "    inp, outp = get_batch(1)\n",
        "    string = input_to_string(crunch_input(inp))\n",
        "    print(string, outp)\n",
        "    for i in range(160):\n",
        "      inp, outp = get_batch(BATCH_SIZE)\n",
        "      optimizer.zero_grad()\n",
        "      loss = crunch(inp, outp)\n",
        "      loss.backward()\n",
        "      optimizer.step()\n",
        "      running_loss += loss.item()\n",
        "      length += BATCH_SIZE\n",
        "    loss = None\n",
        "    trainingloss = running_loss / length\n",
        "    print(\"Epoch %d. Loss: %f\" % (epoch, trainingloss))\n",
        "    trainloss.append(trainingloss)\n",
        "    running_loss = 0.0\n",
        "    length = 0\n",
        "    with torch.no_grad():\n",
        "      for i in range(20):\n",
        "        inp, outp = get_batch(BATCH_SIZE, validation=True)\n",
        "        loss = crunch(inp, outp)\n",
        "        running_loss += loss.item()\n",
        "        length += BATCH_SIZE\n",
        "    validationloss = running_loss / length\n",
        "    print(\"Validation loss: %f\" % validationloss)\n",
        "    validloss.append(validationloss)\n",
        "    file = \"/content/gdrive/My Drive/code/checkpoint/checkpoint-%04d-%.2f\" % (epoch, validationloss)\n",
        "    torch.save({\n",
        "        'lstm1': lstm1.state_dict(),\n",
        "        'lstm2': lstm2.state_dict(),\n",
        "        'dense1': dense1.state_dict(),\n",
        "        'dense2': dense2.state_dict(),\n",
        "        'down': down.state_dict()\n",
        "    }, file)\n",
        "    print(\"Saved\", file)\n",
        "\n",
        "run()"
      ],
      "execution_count": 0,
      "outputs": [
        {
          "output_type": "stream",
          "text": [
            "/usr/local/lib/python3.6/dist-packages/torch/nn/modules/rnn.py:54: UserWarning: dropout option adds dropout after all but last recurrent layer, so non-zero dropout expects num_layers greater than 1, but got dropout=0.1 and num_layers=1\n",
            "  \"num_layers={}\".format(dropout, num_layers))\n"
          ],
          "name": "stderr"
        },
        {
          "output_type": "stream",
          "text": [
            "Example output:\n",
            "73856757,75,-,34 ['130']\n",
            "Epoch 0. Loss: 569.330618\n",
            "Validation loss: 645.763687\n",
            "Saved /content/gdrive/My Drive/code/checkpoint/checkpoint-0000-645.76\n",
            "Example output:\n",
            "                 ['-114.52']\n",
            "Epoch 1. Loss: 592.027699\n",
            "Validation loss: 477.628728\n",
            "Saved /content/gdrive/My Drive/code/checkpoint/checkpoint-0001-477.63\n",
            "Example output:\n",
            "                 ['190']\n",
            "Epoch 2. Loss: 636.469933\n",
            "Validation loss: 459.942751\n",
            "Saved /content/gdrive/My Drive/code/checkpoint/checkpoint-0002-459.94\n",
            "Example output:\n",
            "                 ['11']\n",
            "Epoch 3. Loss: 569.506088\n",
            "Validation loss: 667.665353\n",
            "Saved /content/gdrive/My Drive/code/checkpoint/checkpoint-0003-667.67\n",
            "Example output:\n",
            "                 ['73']\n",
            "Epoch 4. Loss: 551.958488\n",
            "Validation loss: 550.579997\n",
            "Saved /content/gdrive/My Drive/code/checkpoint/checkpoint-0004-550.58\n",
            "Example output:\n",
            "               , ['250']\n",
            "Epoch 5. Loss: 506.396024\n",
            "Validation loss: 593.989011\n",
            "Saved /content/gdrive/My Drive/code/checkpoint/checkpoint-0005-593.99\n",
            "Example output:\n",
            "                 ['4,00']\n",
            "Epoch 6. Loss: 548.973679\n",
            "Validation loss: 467.609155\n",
            "Saved /content/gdrive/My Drive/code/checkpoint/checkpoint-0006-467.61\n",
            "Example output:\n",
            "               3 ['94']\n",
            "Epoch 7. Loss: 535.622374\n",
            "Validation loss: 425.789328\n",
            "Saved /content/gdrive/My Drive/code/checkpoint/checkpoint-0007-425.79\n",
            "Example output:\n",
            "               2 ['83.5']\n",
            "Epoch 8. Loss: 465.399888\n",
            "Validation loss: 361.695793\n",
            "Saved /content/gdrive/My Drive/code/checkpoint/checkpoint-0008-361.70\n",
            "Example output:\n",
            "              88 ['13']\n",
            "Epoch 9. Loss: 458.126913\n",
            "Validation loss: 361.648027\n",
            "Saved /content/gdrive/My Drive/code/checkpoint/checkpoint-0009-361.65\n",
            "Example output:\n",
            " 222122122222221 ['15']\n",
            "Epoch 10. Loss: 464.993646\n",
            "Validation loss: 772.157037\n",
            "Saved /content/gdrive/My Drive/code/checkpoint/checkpoint-0010-772.16\n",
            "Example output:\n",
            "                 ['10,900']\n",
            "Epoch 11. Loss: 465.127318\n",
            "Validation loss: 448.288347\n",
            "Saved /content/gdrive/My Drive/code/checkpoint/checkpoint-0011-448.29\n",
            "Example output:\n",
            "               2 ['7,8']\n",
            "Epoch 12. Loss: 503.469474\n",
            "Validation loss: 698.162881\n",
            "Saved /content/gdrive/My Drive/code/checkpoint/checkpoint-0012-698.16\n",
            "Example output:\n",
            " 555555555555555 ['1.0']\n",
            "Epoch 13. Loss: 431.506976\n",
            "Validation loss: 530.831552\n",
            "Saved /content/gdrive/My Drive/code/checkpoint/checkpoint-0013-530.83\n",
            "Example output:\n",
            "               0 ['12']\n",
            "Epoch 14. Loss: 443.794977\n",
            "Validation loss: 582.361354\n",
            "Saved /content/gdrive/My Drive/code/checkpoint/checkpoint-0014-582.36\n",
            "Example output:\n",
            "  22222222222223 ['12']\n",
            "Epoch 15. Loss: 523.554923\n",
            "Validation loss: 611.046841\n",
            "Saved /content/gdrive/My Drive/code/checkpoint/checkpoint-0015-611.05\n",
            "Example output:\n",
            " 000000000000000 ['78']\n",
            "Epoch 16. Loss: 521.414940\n",
            "Validation loss: 499.160153\n",
            "Saved /content/gdrive/My Drive/code/checkpoint/checkpoint-0016-499.16\n",
            "Example output:\n",
            "               1 ['135']\n",
            "Epoch 17. Loss: 462.593072\n",
            "Validation loss: 538.374591\n",
            "Saved /content/gdrive/My Drive/code/checkpoint/checkpoint-0017-538.37\n",
            "Example output:\n",
            "               1 ['11.5']\n",
            "Epoch 18. Loss: 468.294186\n",
            "Validation loss: 553.894228\n",
            "Saved /content/gdrive/My Drive/code/checkpoint/checkpoint-0018-553.89\n",
            "Example output:\n",
            "               0 ['140']\n",
            "Epoch 19. Loss: 435.121080\n",
            "Validation loss: 428.384071\n",
            "Saved /content/gdrive/My Drive/code/checkpoint/checkpoint-0019-428.38\n",
            "Example output:\n",
            "               7 ['149']\n",
            "Epoch 20. Loss: 458.746447\n",
            "Validation loss: 705.353235\n",
            "Saved /content/gdrive/My Drive/code/checkpoint/checkpoint-0020-705.35\n",
            "Example output:\n",
            " 000000000000002 ['13']\n",
            "Epoch 21. Loss: 441.048713\n",
            "Validation loss: 335.198952\n",
            "Saved /content/gdrive/My Drive/code/checkpoint/checkpoint-0021-335.20\n",
            "Example output:\n",
            "               0 ['11,7']\n",
            "Epoch 22. Loss: 395.815455\n",
            "Validation loss: 445.212057\n",
            "Saved /content/gdrive/My Drive/code/checkpoint/checkpoint-0022-445.21\n",
            "Example output:\n",
            "               4 ['144']\n"
          ],
          "name": "stdout"
        }
      ]
    },
    {
      "cell_type": "code",
      "metadata": {
        "id": "7KXbhC7NAoZF",
        "colab_type": "code",
        "colab": {}
      },
      "source": [
        ""
      ],
      "execution_count": 0,
      "outputs": []
    },
    {
      "cell_type": "code",
      "metadata": {
        "id": "hj5J3EU6Bkod",
        "colab_type": "code",
        "outputId": "4c8d2fe6-3c70-4aef-fcf6-7e2aebca02c3",
        "colab": {
          "base_uri": "https://localhost:8080/",
          "height": 969
        }
      },
      "source": [
        "image_tensor = torch.Tensor(image)\n",
        "image_tensor = torch.unsqueeze(image_tensor, 0)\n",
        "image_tensor = image_tensor.permute(0, 3, 1, 2)\n",
        "out = resnet(image_tensor)\n",
        "print(out)\n",
        "print(out.shape)"
      ],
      "execution_count": 226,
      "outputs": [
        {
          "output_type": "stream",
          "text": [
            "tensor([[[[0.0000e+00, 8.4632e-03, 4.4118e-01,  ..., 3.5947e-01,\n",
            "           0.0000e+00, 0.0000e+00],\n",
            "          [1.5710e+00, 1.6492e+00, 4.3799e-01,  ..., 1.9591e+00,\n",
            "           0.0000e+00, 0.0000e+00],\n",
            "          [0.0000e+00, 0.0000e+00, 0.0000e+00,  ..., 3.5652e+00,\n",
            "           1.0369e-01, 0.0000e+00],\n",
            "          [0.0000e+00, 0.0000e+00, 2.7234e-01,  ..., 4.7540e+00,\n",
            "           1.5719e+00, 0.0000e+00]],\n",
            "\n",
            "         [[8.1148e-01, 6.8881e-01, 1.4770e+00,  ..., 2.5300e+00,\n",
            "           2.8111e-01, 0.0000e+00],\n",
            "          [0.0000e+00, 1.1480e-01, 1.6761e+00,  ..., 3.0082e+00,\n",
            "           0.0000e+00, 0.0000e+00],\n",
            "          [0.0000e+00, 0.0000e+00, 3.6867e-01,  ..., 6.7188e-02,\n",
            "           0.0000e+00, 0.0000e+00],\n",
            "          [0.0000e+00, 0.0000e+00, 7.3576e-01,  ..., 0.0000e+00,\n",
            "           0.0000e+00, 0.0000e+00]],\n",
            "\n",
            "         [[0.0000e+00, 0.0000e+00, 0.0000e+00,  ..., 0.0000e+00,\n",
            "           0.0000e+00, 0.0000e+00],\n",
            "          [0.0000e+00, 0.0000e+00, 0.0000e+00,  ..., 3.6493e-01,\n",
            "           6.6963e-01, 1.3038e+00],\n",
            "          [0.0000e+00, 0.0000e+00, 2.3498e-01,  ..., 3.9726e+00,\n",
            "           3.6936e+00, 4.9995e+00],\n",
            "          [0.0000e+00, 0.0000e+00, 0.0000e+00,  ..., 2.2699e+00,\n",
            "           1.9825e+00, 3.4142e+00]],\n",
            "\n",
            "         ...,\n",
            "\n",
            "         [[0.0000e+00, 0.0000e+00, 8.0649e-01,  ..., 0.0000e+00,\n",
            "           0.0000e+00, 0.0000e+00],\n",
            "          [0.0000e+00, 0.0000e+00, 1.9799e-01,  ..., 1.9203e+00,\n",
            "           0.0000e+00, 0.0000e+00],\n",
            "          [8.3722e-01, 6.5913e-01, 0.0000e+00,  ..., 3.8010e+00,\n",
            "           8.7445e-01, 0.0000e+00],\n",
            "          [0.0000e+00, 5.9475e-01, 5.7401e-01,  ..., 1.4463e+00,\n",
            "           7.0291e-01, 0.0000e+00]],\n",
            "\n",
            "         [[3.6209e-03, 1.2981e-01, 0.0000e+00,  ..., 7.8135e-01,\n",
            "           0.0000e+00, 0.0000e+00],\n",
            "          [6.2933e-01, 8.6088e-01, 0.0000e+00,  ..., 2.9871e+00,\n",
            "           1.2012e-01, 0.0000e+00],\n",
            "          [1.1541e-01, 5.3023e-01, 0.0000e+00,  ..., 2.3027e+00,\n",
            "           2.2574e+00, 0.0000e+00],\n",
            "          [1.3627e-02, 5.4174e-01, 0.0000e+00,  ..., 3.8798e+00,\n",
            "           2.4290e+00, 0.0000e+00]],\n",
            "\n",
            "         [[2.7223e+00, 3.2751e+00, 8.2913e-01,  ..., 0.0000e+00,\n",
            "           0.0000e+00, 0.0000e+00],\n",
            "          [2.7052e+00, 1.8257e+00, 1.2843e+00,  ..., 0.0000e+00,\n",
            "           0.0000e+00, 0.0000e+00],\n",
            "          [2.6213e+00, 3.2044e+00, 2.1156e+00,  ..., 0.0000e+00,\n",
            "           0.0000e+00, 0.0000e+00],\n",
            "          [1.0639e+00, 2.5388e+00, 4.0256e+00,  ..., 0.0000e+00,\n",
            "           0.0000e+00, 0.0000e+00]]]], grad_fn=<ReluBackward1>)\n",
            "torch.Size([1, 512, 4, 8])\n"
          ],
          "name": "stdout"
        }
      ]
    },
    {
      "cell_type": "code",
      "metadata": {
        "id": "VzT9wrddCOmt",
        "colab_type": "code",
        "colab": {}
      },
      "source": [
        ""
      ],
      "execution_count": 0,
      "outputs": []
    },
    {
      "cell_type": "code",
      "metadata": {
        "id": "7PxeqSiVE8pH",
        "colab_type": "code",
        "colab": {}
      },
      "source": [
        ""
      ],
      "execution_count": 0,
      "outputs": []
    }
  ]
}