{
  "nbformat": 4,
  "nbformat_minor": 0,
  "metadata": {
    "colab": {
      "name": "ctc-test.ipynb",
      "version": "0.3.2",
      "provenance": [],
      "include_colab_link": true
    },
    "kernelspec": {
      "name": "python3",
      "display_name": "Python 3"
    },
    "accelerator": "GPU"
  },
  "cells": [
    {
      "cell_type": "markdown",
      "metadata": {
        "id": "view-in-github",
        "colab_type": "text"
      },
      "source": [
        "<a href=\"https://colab.research.google.com/github/colaprograms/2019-hackathon-ocr-wymbah/blob/master/notebooks/ctc_test.ipynb\" target=\"_parent\"><img src=\"https://colab.research.google.com/assets/colab-badge.svg\" alt=\"Open In Colab\"/></a>"
      ]
    },
    {
      "cell_type": "code",
      "metadata": {
        "id": "47zAK9Hd86yi",
        "colab_type": "code",
        "colab": {}
      },
      "source": [
        "import os, torch, re, sys\n",
        "import numpy as np\n",
        "import matplotlib.pyplot as p\n",
        "import random, PIL"
      ],
      "execution_count": 0,
      "outputs": []
    },
    {
      "cell_type": "code",
      "metadata": {
        "id": "nnmS2Npz9SDs",
        "colab_type": "code",
        "outputId": "f8910b1c-ebb0-4140-8764-65c4dd09ada1",
        "colab": {
          "base_uri": "https://localhost:8080/",
          "height": 249
        }
      },
      "source": [
        "os.chdir(\"/content\")\n",
        "if not os.path.exists(\"/content/AI4Good---Meza-OCR-Challenge\"):\n",
        "  !git clone https://github.com/Charitable-Analytics-International/AI4Good---Meza-OCR-Challenge\n",
        "if not os.path.exists(\"/content/2019-hackathon-ocr-wymbah\"):\n",
        "  !git clone https://github.com/colaprograms/2019-hackathon-ocr-wymbah\n",
        "os.chdir(\"/content/2019-hackathon-ocr-wymbah\")\n",
        "!git pull\n",
        "\n",
        "from importlib import reload\n",
        "import util.file\n",
        "reload(util.file)\n",
        "\n",
        "from google.colab import drive\n",
        "drive.mount(\"/content/gdrive\")\n",
        "try:\n",
        "  os.mkdir(\"/content/gdrive/My Drive/code\")\n",
        "except:\n",
        "  pass\n",
        "try:\n",
        "  os.mkdir(\"/content/gdrive/My Drive/code/checkpoint\")\n",
        "except:\n",
        "  pass"
      ],
      "execution_count": 11,
      "outputs": [
        {
          "output_type": "stream",
          "text": [
            "remote: Enumerating objects: 7, done.\u001b[K\n",
            "remote: Counting objects:  14% (1/7)   \u001b[K\rremote: Counting objects:  28% (2/7)   \u001b[K\rremote: Counting objects:  42% (3/7)   \u001b[K\rremote: Counting objects:  57% (4/7)   \u001b[K\rremote: Counting objects:  71% (5/7)   \u001b[K\rremote: Counting objects:  85% (6/7)   \u001b[K\rremote: Counting objects: 100% (7/7)   \u001b[K\rremote: Counting objects: 100% (7/7), done.\u001b[K\n",
            "remote: Compressing objects:  50% (1/2)   \u001b[K\rremote: Compressing objects: 100% (2/2)   \u001b[K\rremote: Compressing objects: 100% (2/2), done.\u001b[K\n",
            "remote: Total 4 (delta 2), reused 4 (delta 2), pack-reused 0\u001b[K\n",
            "Unpacking objects:  25% (1/4)   \rUnpacking objects:  50% (2/4)   \rUnpacking objects:  75% (3/4)   \rUnpacking objects: 100% (4/4)   \rUnpacking objects: 100% (4/4), done.\n",
            "From https://github.com/colaprograms/2019-hackathon-ocr-wymbah\n",
            "   e39f967..680e840  master     -> origin/master\n",
            "Updating e39f967..680e840\n",
            "Fast-forward\n",
            " util/file.py | 2 \u001b[32m+\u001b[m\u001b[31m-\u001b[m\n",
            " 1 file changed, 1 insertion(+), 1 deletion(-)\n",
            "Using path /content/AI4Good---Meza-OCR-Challenge\n",
            "Drive already mounted at /content/gdrive; to attempt to forcibly remount, call drive.mount(\"/content/gdrive\", force_remount=True).\n"
          ],
          "name": "stdout"
        }
      ]
    },
    {
      "cell_type": "code",
      "metadata": {
        "id": "RBrQBRzb9Vyp",
        "colab_type": "code",
        "outputId": "ead07f55-b108-4d77-def2-92babbf0f20a",
        "colab": {
          "base_uri": "https://localhost:8080/",
          "height": 307
        }
      },
      "source": [
        "from util.file import FileHolder\n",
        "fh = FileHolder()\n",
        "inp, outp = fh.get_batch(1)\n",
        "\n",
        "for file, val in zip(inp, outp):\n",
        "  print(val)\n",
        "  p.imshow(file)\n",
        "  p.show()\n",
        "\n",
        "def to_tensor(buf):\n",
        "  buf -= np.mean(buf, axis=(0, 1, 2))[None, None, None, :]\n",
        "  buf /= np.std(buf, axis=(0, 1, 2))[None, None, None, :] * 2\n",
        "  #buf -= np.array([0.485, 0.456, 0.406])[None, None, None, :]\n",
        "  #buf /= np.array([0.229, 0.224, 0.225])[None, None, None, :]\n",
        "  return torch.tensor(buf, dtype=torch.float32).permute(0, 3, 1, 2)\n",
        "\n",
        "def get_batch(batchsize, validation=False):\n",
        "  inp, outp = fh.get_batch(batchsize, validation)\n",
        "  inp = np.stack(inp)\n",
        "  inp = to_tensor(inp)\n",
        "  return inp, outp\n",
        "\n",
        "p.imshow(get_batch(1)[0].numpy().squeeze().transpose(1, 2, 0) * 0.5 + 0.5)\n",
        "p.show()"
      ],
      "execution_count": 53,
      "outputs": [
        {
          "output_type": "stream",
          "text": [
            "Clipping input data to the valid range for imshow with RGB data ([0..1] for floats or [0..255] for integers).\n"
          ],
          "name": "stderr"
        },
        {
          "output_type": "stream",
          "text": [
            "64\n"
          ],
          "name": "stdout"
        },
        {
          "output_type": "display_data",
          "data": {
            "image/png": "[encoded data removed]",
            "text/plain": [
              "<Figure size 432x288 with 1 Axes>"
            ]
          },
          "metadata": {
            "tags": []
          }
        },
        {
          "output_type": "stream",
          "text": [
            "Clipping input data to the valid range for imshow with RGB data ([0..1] for floats or [0..255] for integers).\n"
          ],
          "name": "stderr"
        },
        {
          "output_type": "display_data",
          "data": {
            "image/png": "[encoded data removed]",
            "text/plain": [
              "<Figure size 432x288 with 1 Axes>"
            ]
          },
          "metadata": {
            "tags": []
          }
        }
      ]
    },
    {
      "cell_type": "code",
      "metadata": {
        "id": "kLBd53Ar990X",
        "colab_type": "code",
        "colab": {}
      },
      "source": [
        "import torch.nn as nn\n",
        "import torch.optim as optim\n",
        "import torchvision\n",
        "\n"
      ],
      "execution_count": 0,
      "outputs": []
    },
    {
      "cell_type": "code",
      "metadata": {
        "id": "gj9U2jENAnfQ",
        "colab_type": "code",
        "outputId": "3363a299-b395-46e6-8537-b45be4622652",
        "colab": {
          "base_uri": "https://localhost:8080/",
          "height": 53
        }
      },
      "source": [
        "chars = \" 0123456789-,.\"\n",
        "nchars = len(chars)\n",
        "idx = {}\n",
        "for i, c in enumerate(chars): idx[c] = i\n",
        "\n",
        "ntraining = len(fh.info['training'])\n",
        "\n",
        "BATCH_SIZE = 64\n",
        "\n",
        "def maketarget(outputs):\n",
        "  classes = [torch.tensor([idx[c] for c in string], dtype=torch.long) for string in outputs]\n",
        "  lengths = [len(string) for string in outputs]\n",
        "  return nn.utils.rnn.pack_sequence(classes, enforce_sorted=False), lengths\n",
        "\n",
        "trainloss = []\n",
        "validloss = []\n",
        "def run():\n",
        "  resnet = torchvision.models.resnet.resnet34(True)\n",
        "\n",
        "  \"Cut off the last two layers\"\n",
        "  def forward(self, x):\n",
        "    x = self.conv1(x)\n",
        "    x = self.bn1(x)\n",
        "    x = self.relu(x)\n",
        "    x = self.maxpool(x)\n",
        "\n",
        "    x = self.layer1(x)\n",
        "    x = self.layer2(x)\n",
        "    #x = self.layer3(x)\n",
        "    #x = self.layer4(x)\n",
        "\n",
        "    return x\n",
        "\n",
        "  import types\n",
        "  resnet.forward = types.MethodType(forward, resnet)\n",
        "  resnet = resnet.cuda()\n",
        "  for param in resnet.parameters():\n",
        "    param.requires_grad = False\n",
        "  lstm1 = nn.LSTM(128, 64, batch_first=True, bidirectional=True).cuda()\n",
        "  down = nn.Sequential(\n",
        "      nn.Conv1d(128, 128, 3, padding=1),\n",
        "      nn.ReLU()\n",
        "  ).cuda()\n",
        "  layernorm3 = nn.LayerNorm((128,)).cuda()\n",
        "  lstm2 = nn.LSTM(128, 64, batch_first=True, bidirectional=True).cuda()\n",
        "  layernorm1 = nn.LayerNorm((128,)).cuda()\n",
        "  dense1 = nn.Sequential(\n",
        "      nn.Linear(128, 64),\n",
        "      nn.LayerNorm(64),\n",
        "      nn.ReLU()\n",
        "  ).cuda()\n",
        "  layernorm2 = nn.LayerNorm((128,)).cuda()\n",
        "  dense2 = nn.Sequential(\n",
        "      nn.Linear(64, nchars)\n",
        "  ).cuda()\n",
        "  def params():\n",
        "    yield from lstm1.parameters()\n",
        "    yield from lstm2.parameters()\n",
        "    yield from down.parameters()\n",
        "    yield from dense1.parameters()\n",
        "    yield from dense2.parameters()\n",
        "  avgpool = nn.AdaptiveAvgPool2d((1, 32)).cuda()\n",
        "  ctc = nn.CTCLoss(reduction='sum').cuda()\n",
        "  \n",
        "  optimizer = optim.SGD(params(), lr=0.01, momentum=0.9, nesterov=True)\n",
        "\n",
        "  def input_to_string(inp):\n",
        "    assert inp.shape[0] == 1\n",
        "    inp = inp.detach().cpu().numpy()\n",
        "    def randchoice(p):\n",
        "      p = np.exp(p)\n",
        "      u = random.random()\n",
        "      for i in range(p.shape[0]):\n",
        "        u -= p[i]\n",
        "        if u < 0:\n",
        "          return i\n",
        "      raise Exception(\"not a probability distribution\")\n",
        "    return \"\".join(chars[randchoice(inp[0, j, :])] for j in range(inp.shape[1]))\n",
        "  def crunch_input(inp):\n",
        "    inp = resnet(inp.cuda())\n",
        "    inp = avgpool(inp)\n",
        "    inp = inp.reshape([-1, 128, 32]).permute(0, 2, 1)\n",
        "    # batch, seq, channels\n",
        "    inp, _ = lstm1(inp)\n",
        "    inp = layernorm3(inp)\n",
        "    inp = inp.permute(0, 2, 1)\n",
        "    # batch, channels, seq\n",
        "    inp = down(inp)\n",
        "    inp = inp.permute(0, 2, 1)\n",
        "    inp = layernorm2(inp)\n",
        "    # batch, seq, channels\n",
        "    inp, _ = lstm2(inp)\n",
        "    inp = layernorm1(inp)\n",
        "    inp = dense1(inp)\n",
        "    inp = dense2(inp)\n",
        "    inp = nn.functional.log_softmax(inp, dim=2)\n",
        "    return inp\n",
        "  def crunch(inp, outp):\n",
        "    inp = crunch_input(inp)\n",
        "    inp = inp.permute(1, 0, 2)\n",
        "    assert inp.shape[0] == 32\n",
        "    input_lengths = [32 for i in range(inp.shape[1])]\n",
        "    target, target_lengths = maketarget(outp)\n",
        "    input_lengths, target_lengths = map(tuple, [input_lengths, target_lengths])\n",
        "    loss = ctc(inp, target.data.cuda(), input_lengths, target_lengths)\n",
        "    return loss\n",
        "  for epoch in range(999999):\n",
        "    running_loss = 0.0\n",
        "    length = 0\n",
        "    print(\"Example output:\")\n",
        "    inp, outp = get_batch(1)\n",
        "    string = input_to_string(crunch_input(inp))\n",
        "    print(string, outp)\n",
        "    for i in range(160):\n",
        "      inp, outp = get_batch(BATCH_SIZE)\n",
        "      optimizer.zero_grad()\n",
        "      loss = crunch(inp, outp)\n",
        "      loss.backward()\n",
        "      optimizer.step()\n",
        "      running_loss += loss.item()\n",
        "      length += BATCH_SIZE\n",
        "    loss = None\n",
        "    trainingloss = running_loss / length\n",
        "    print(\"Epoch %d. Loss: %f\" % (epoch, trainingloss))\n",
        "    trainloss.append(trainingloss)\n",
        "    running_loss = 0.0\n",
        "    length = 0\n",
        "    with torch.no_grad():\n",
        "      for i in range(20):\n",
        "        inp, outp = get_batch(BATCH_SIZE, validation=True)\n",
        "        loss = crunch(inp, outp)\n",
        "        running_loss += loss.item()\n",
        "        length += BATCH_SIZE\n",
        "    validationloss = running_loss / length\n",
        "    print(\"Validation loss: %f\" % validationloss)\n",
        "    validloss.append(validationloss)\n",
        "    file = \"/content/gdrive/My Drive/code/checkpoint/checkpoint-%04d-%.2f\" % (epoch, validationloss)\n",
        "    torch.save({\n",
        "        'lstm1': lstm1.state_dict(),\n",
        "        'lstm2': lstm2.state_dict(),\n",
        "        'dense1': dense1.state_dict(),\n",
        "        'dense2': dense2.state_dict(),\n",
        "        'down': down.state_dict()\n",
        "    }, file)\n",
        "    print(\"Saved\", file)\n",
        "\n",
        "run()"
      ],
      "execution_count": 0,
      "outputs": [
        {
          "output_type": "stream",
          "text": [
            "Example output:\n",
            "973 .94020140 20-7670-.4483 6435 ['64']\n"
          ],
          "name": "stdout"
        }
      ]
    },
    {
      "cell_type": "code",
      "metadata": {
        "id": "7KXbhC7NAoZF",
        "colab_type": "code",
        "colab": {}
      },
      "source": [
        ""
      ],
      "execution_count": 0,
      "outputs": []
    },
    {
      "cell_type": "code",
      "metadata": {
        "id": "hj5J3EU6Bkod",
        "colab_type": "code",
        "colab": {}
      },
      "source": [
        "image_tensor = torch.Tensor(image)\n",
        "image_tensor = torch.unsqueeze(image_tensor, 0)\n",
        "image_tensor = image_tensor.permute(0, 3, 1, 2)\n",
        "out = resnet(image_tensor)\n",
        "print(out)\n",
        "print(out.shape)"
      ],
      "execution_count": 0,
      "outputs": []
    },
    {
      "cell_type": "code",
      "metadata": {
        "id": "VzT9wrddCOmt",
        "colab_type": "code",
        "colab": {}
      },
      "source": [
        ""
      ],
      "execution_count": 0,
      "outputs": []
    },
    {
      "cell_type": "code",
      "metadata": {
        "id": "7PxeqSiVE8pH",
        "colab_type": "code",
        "colab": {}
      },
      "source": [
        ""
      ],
      "execution_count": 0,
      "outputs": []
    }
  ]
}