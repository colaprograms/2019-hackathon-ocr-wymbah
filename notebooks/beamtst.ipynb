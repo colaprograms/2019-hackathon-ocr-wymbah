{
 "cells": [
  {
   "cell_type": "code",
   "execution_count": 72,
   "metadata": {},
   "outputs": [
    {
     "name": "stdout",
     "output_type": "stream",
     "text": [
      "Current directory is /home/gibson/sdb2/cola/ass/balls/2019-hackathon-ocr-wymbah\n"
     ]
    }
   ],
   "source": [
    "import torch, os\n",
    "import numpy as np\n",
    "from importlib import reload\n",
    "if os.path.exists(\"../notebooks\"):\n",
    "    os.chdir(\"..\")\n",
    "print(\"Current directory is\", os.getcwd())"
   ]
  },
  {
   "cell_type": "code",
   "execution_count": 75,
   "metadata": {},
   "outputs": [
    {
     "name": "stdout",
     "output_type": "stream",
     "text": [
      "Using images in ../AI4Good---Meza-OCR-Challenge\n"
     ]
    }
   ],
   "source": [
    "import nets.ctcnet\n",
    "reload(nets.ctcnet)\n",
    "from nets.ctcnet import *\n",
    "\n",
    "import util.beam\n",
    "reload(util.beam)\n",
    "from util.beam import BeamSearch\n",
    "\n",
    "import util.file\n",
    "reload(util.file)\n",
    "from util.file import FileHolder, file_list_to_tensor\n",
    "fh = FileHolder()\n",
    "\n",
    "import util.beamtest\n",
    "reload(util.beamtest)\n",
    "\n",
    "from util.chars import chars, nchars, idx"
   ]
  },
  {
   "cell_type": "code",
   "execution_count": 76,
   "metadata": {},
   "outputs": [],
   "source": [
    "result = util.beamtest.test(1000, quiet=True)\n",
    "print(result)"
   ]
  },
  {
   "cell_type": "code",
   "execution_count": 77,
   "metadata": {},
   "outputs": [
    {
     "name": "stdout",
     "output_type": "stream",
     "text": [
      "Total correct: 90.70% (0/1000)\n"
     ]
    }
   ],
   "source": []
  },
  {
   "cell_type": "code",
   "execution_count": 79,
   "metadata": {},
   "outputs": [
    {
     "name": "stdout",
     "output_type": "stream",
     "text": [
      "Total correct: 93.00% (0/1000)\n"
     ]
    }
   ],
   "source": [
    "result = util.beamtest.test2(1000, quiet=True)\n",
    "print(result)"
   ]
  },
  {
   "cell_type": "code",
   "execution_count": null,
   "metadata": {},
   "outputs": [],
   "source": []
  }
 ],
 "metadata": {
  "kernelspec": {
   "display_name": "Python 3",
   "language": "python",
   "name": "python3"
  },
  "language_info": {
   "codemirror_mode": {
    "name": "ipython",
    "version": 3
   },
   "file_extension": ".py",
   "mimetype": "text/x-python",
   "name": "python",
   "nbconvert_exporter": "python",
   "pygments_lexer": "ipython3",
   "version": "3.7.3"
  }
 },
 "nbformat": 4,
 "nbformat_minor": 2
}
