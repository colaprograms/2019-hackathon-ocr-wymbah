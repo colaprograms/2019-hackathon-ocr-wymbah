{
 "cells": [
  {
   "cell_type": "markdown",
   "metadata": {
    "colab_type": "text",
    "id": "view-in-github"
   },
   "source": [
    "<a href=\"https://colab.research.google.com/github/colaprograms/2019-hackathon-ocr-wymbah/blob/master/notebooks/training.ipynb\" target=\"_parent\"><img src=\"https://colab.research.google.com/assets/colab-badge.svg\" alt=\"Open In Colab\"/></a>"
   ]
  },
  {
   "cell_type": "markdown",
   "metadata": {},
   "source": [
    "This notebook trains a model!\n",
    "\n",
    "## If you're in a Jupyter notebook:\n",
    "\n",
    "You have to download the image files yourself with `git clone`.\n",
    "Once you are done, the directory structure should look like\n",
    "```\n",
    "project/\n",
    "project/AI4Good---Meza-OCR-Challenge\n",
    "project/AI4Good---Meza-OCR-Challenge/cell_images, etc\n",
    "project/2019-hackathon-ocr-wymbah\n",
    "project/2019-hackathon-ocr-wymbah/nets\n",
    "project/2019-hackathon-ocr-wymbah/notebooks\n",
    "project/2019-hackathon-ocr-wymbah/util\n",
    "```\n",
    "\n",
    "You may need these commands:\n",
    "```\n",
    "git clone https://github.com/Charitable-Analytics-International/AI4Good---Meza-OCR-Challenge\n",
    "git clone https://github.com/colaprograms/2019-hackathon-ocr-wymbah\n",
    "```\n",
    "\n",
    "## If you're in Google Colab:\n",
    "\n",
    "The notebook should automatically download everything. All you have to do is hit \"Run all\" and then authorize the notebook to mount your drive so that it can save checkpoints in `My Drive/code/checkpoint`.\n",
    "\n",
    "If you run the notebook for the first time and scroll down, you should see something like\n",
    "```\n",
    "We're on Google Colab!\n",
    "Already up to date.\n",
    "Now mounting your Google Drive (not mine, yours)\n",
    "Go to this URL in a browser: https://accounts.google.com/o/oauth2/auth?(et cetera)\n",
    "\n",
    "Enter your authorization code:\n",
    "```\n",
    "\n",
    "Go to the URL as instructed and enter the authorization code. The notebook will then print\n",
    "\n",
    "```\n",
    "Mounted at /content/gdrive\n",
    "Changing directory to /content/2019-hackathon-ocr-wymbah\n",
    "Checkpoints are going to /content/gdrive/My Drive/code/checkpoint\n",
    "```\n",
    "\n",
    "and then (ideally) the rest of the cells will run and it will start training."
   ]
  },
  {
   "cell_type": "code",
   "execution_count": 1,
   "metadata": {
    "colab": {},
    "colab_type": "code",
    "id": "47zAK9Hd86yi"
   },
   "outputs": [],
   "source": [
    "import os, torch, re, sys\n",
    "import numpy as np\n",
    "import matplotlib.pyplot as p\n",
    "import random, PIL"
   ]
  },
  {
   "cell_type": "code",
   "execution_count": 2,
   "metadata": {
    "colab": {
     "base_uri": "https://localhost:8080/",
     "height": 411
    },
    "colab_type": "code",
    "id": "nnmS2Npz9SDs",
    "outputId": "4f1a6a8b-03e4-4088-e4ca-6e990be24540"
   },
   "outputs": [
    {
     "name": "stdout",
     "output_type": "stream",
     "text": []
    }
   ],
   "source": [
    "import os.path\n",
    "from os.path import join\n",
    "def exists(*arg):\n",
    "    return os.path.exists(join(*arg))\n",
    "def trymkdir(*arg):\n",
    "    try:\n",
    "        os.mkdir(join(*arg))\n",
    "        print(\"Created directory\", join(*arg))\n",
    "    except:\n",
    "        pass\n",
    "\n",
    "if exists(\"/content\"):\n",
    "    PATH = \"/content\"\n",
    "    print(\"We're on Google Colab!\")\n",
    "    print(\"We will automatically try to download everything.\")\n",
    "    os.chdir(PATH)\n",
    "    if not exists(PATH, \"AI4Good---Meza-OCR-Challenge\"):\n",
    "      !git clone https://github.com/Charitable-Analytics-International/AI4Good---Meza-OCR-Challenge\n",
    "    if not exists(PATH, \"2019-hackathon-ocr-wymbah\"):\n",
    "      !git clone https://github.com/colaprograms/2019-hackathon-ocr-wymbah\n",
    "    CODE_PATH = join(PATH, \"2019-hackathon-ocr-wymbah\")\n",
    "    \"The code may have changed on GitHub since we cloned it\"\n",
    "    os.chdir(CODE_PATH)\n",
    "    !git pull\n",
    "    \n",
    "    \"Mount Google Drive on /content/gdrive/My Drive and try to save checkpoints in code/checkpoint\"\n",
    "    print(\"Now mounting your Google Drive (not mine, yours)\")\n",
    "    from google.colab import drive\n",
    "    drive.mount(\"/content/gdrive\")\n",
    "    trymkdir(\"/content/gdrive/My Drive/code\")\n",
    "    trymkdir(\"/content/gdrive/My Drive/code/checkpoint\")\n",
    "    CHECKPOINT_PATH = \"/content/gdrive/My Drive/code/checkpoint\"\n",
    "else:\n",
    "    print(\"We're in a Jupyter notebook!\")\n",
    "    print(\"We will NOT automatically get the training files or pull from git.\")\n",
    "    if exists(\"../notebooks\"):\n",
    "        \"Move out of the notebooks directory\"\n",
    "        os.chdir(\"..\")\n",
    "    CODE_PATH = os.getcwd()\n",
    "    CHECKPOINT_PATH = join(CODE_PATH, \"checkpoint\")\n",
    "    trymkdir(CHECKPOINT_PATH)\n",
    "\n",
    "print(\"Changing directory to\", CODE_PATH)\n",
    "os.chdir(CODE_PATH)\n",
    "print(\"Checkpoints are going to\", CHECKPOINT_PATH)"
   ]
  },
  {
   "cell_type": "code",
   "execution_count": 3,
   "metadata": {},
   "outputs": [],
   "source": [
    "import torch.nn as nn\n",
    "import torch.optim as optim\n",
    "import torchvision\n",
    "\n",
    "# Numpy will show all numbers to 4 decimal places\n",
    "np.set_printoptions(4, suppress=True)"
   ]
  },
  {
   "cell_type": "code",
   "execution_count": 4,
   "metadata": {
    "colab": {
     "base_uri": "https://localhost:8080/",
     "height": 270
    },
    "colab_type": "code",
    "id": "RBrQBRzb9Vyp",
    "outputId": "a80f4b38-70a9-4626-ff3b-ea9ec544702d"
   },
   "outputs": [
    {
     "name": "stdout",
     "output_type": "stream",
     "text": [
      "Reloading util.file\n"
     ]
    },
    {
     "name": "stderr",
     "output_type": "stream",
     "text": [
      "/home/gibson/sdb2/cola/ass/speechify_env/lib/python3.7/site-packages/skimage/transform/_warps.py:23: UserWarning: The default multichannel argument (None) is deprecated.  Please specify either True or False explicitly.  multichannel will default to False starting with release 0.16.\n",
      "  warn('The default multichannel argument (None) is deprecated.  Please '\n",
      "Clipping input data to the valid range for imshow with RGB data ([0..1] for floats or [0..255] for integers).\n"
     ]
    },
    {
     "name": "stdout",
     "output_type": "stream",
     "text": [
      "Using images in ../AI4Good---Meza-OCR-Challenge\n",
      "Using images in ../AI4Good---Meza-OCR-Challenge\n",
      "\n",
      "Reloading util.chars\n",
      "\n",
      "Reloading nets.ctcnet\n",
      "\n",
      "Loaded 6747 training images and 750 validation images\n",
      "Showing an example training image\n",
      "\n",
      "Label: 12\n",
      "Image mean: [0. 0. 0.]\n",
      "Image std dev: [0.5 0.5 0.5]\n"
     ]
    },
    {
     "data": {
      "image/png": "[encoded data removed]",
      "text/plain": [
       "<Figure size 432x288 with 1 Axes>"
      ]
     },
     "metadata": {
      "needs_background": "light"
     },
     "output_type": "display_data"
    },
    {
     "name": "stderr",
     "output_type": "stream",
     "text": [
      "Clipping input data to the valid range for imshow with RGB data ([0..1] for floats or [0..255] for integers).\n"
     ]
    },
    {
     "name": "stdout",
     "output_type": "stream",
     "text": [
      "\n",
      "Showing an example validation image\n",
      "\n",
      "Label: 173.64\n",
      "Image mean: [0. 0. 0.]\n",
      "Image std dev: [0.5 0.5 0.5]\n"
     ]
    },
    {
     "data": {
      "image/png": "[encoded data removed]",
      "text/plain": [
       "<Figure size 432x288 with 1 Axes>"
      ]
     },
     "metadata": {
      "needs_background": "light"
     },
     "output_type": "display_data"
    }
   ],
   "source": [
    "# Reload all of our modules in case they changed\n",
    "\n",
    "modules_to_reload = [\n",
    "    \"util.file\",\n",
    "    \"util.chars\",\n",
    "    \"nets.ctcnet\"\n",
    "]\n",
    "\n",
    "from importlib import import_module, reload\n",
    "for module in modules_to_reload:\n",
    "    print(\"Reloading %s\" % module)\n",
    "    reload(import_module(module))\n",
    "    print()\n",
    "\n",
    "from util.chars import chars, nchars, idx, input_to_string\n",
    "from util.file import FileHolder\n",
    "from nets.ctcnet import CTCModel\n",
    "\n",
    "fh = FileHolder()\n",
    "print(\"Loaded %d training images and %d validation images\" %\n",
    "     (fh.ntraining(), fh.nvalidation()))\n",
    "\n",
    "def show(z):\n",
    "    print()\n",
    "    b = z[0].numpy().squeeze().transpose(1, 2, 0)\n",
    "    print(\"Label:\", z[1][0])\n",
    "    print(\"Image mean:\", np.mean(b, axis=(0, 1)))\n",
    "    print(\"Image std dev:\", np.std(b, axis=(0, 1)))\n",
    "    p.imshow(b * 0.3 + 0.9)\n",
    "    p.show()\n",
    "\n",
    "print(\"Showing an example training image\")\n",
    "b = fh.get_batch_tensor(1)\n",
    "show(b)\n",
    "\n",
    "print()\n",
    "print(\"Showing an example validation image\")\n",
    "b = fh.get_batch_tensor(1, validation=True)\n",
    "show(b)"
   ]
  },
  {
   "cell_type": "code",
   "execution_count": 5,
   "metadata": {
    "colab": {
     "base_uri": "https://localhost:8080/",
     "height": 21013
    },
    "colab_type": "code",
    "id": "gj9U2jENAnfQ",
    "outputId": "b37ed1e6-651d-47d6-e20d-d087c2faf184",
    "scrolled": false
   },
   "outputs": [
    {
     "name": "stdout",
     "output_type": "stream",
     "text": [
      "Training network from scratch\n",
      "Once the validation loss stops improving, you should probably stop the model.\n",
      "For this model, that seems to take around 50 epochs.\n",
      "Each epoch should take about 0.7 minutes.\n",
      "Epoch 0. Loss: 13.663425\n",
      "Validation loss: 7.837342\n",
      "Saved checkpoint/checkpoint-0000-7.84\n",
      "Epoch 1. Loss: 7.191793\n",
      "Validation loss: 6.499650\n",
      "Saved checkpoint/checkpoint-0001-6.50\n",
      "Epoch 2. Loss: 6.154500\n",
      "Validation loss: 5.658411\n",
      "Saved checkpoint/checkpoint-0002-5.66\n",
      "Epoch 3. Loss: 5.563090\n",
      "Validation loss: 5.088109\n",
      "Saved checkpoint/checkpoint-0003-5.09\n",
      "Epoch 4. Loss: 4.895664\n",
      "Validation loss: 4.424777\n",
      "Saved checkpoint/checkpoint-0004-4.42\n",
      "Epoch 5. Loss: 4.211568\n",
      "Validation loss: 3.775115\n",
      "Saved checkpoint/checkpoint-0005-3.78\n",
      "Epoch 6. Loss: 3.362286\n",
      "Validation loss: 2.817029\n",
      "Saved checkpoint/checkpoint-0006-2.82\n",
      "Epoch 7. Loss: 2.535744\n",
      "Validation loss: 1.743379\n",
      "Saved checkpoint/checkpoint-0007-1.74\n",
      "Epoch 8. Loss: 1.876320\n",
      "Validation loss: 1.335707\n",
      "Saved checkpoint/checkpoint-0008-1.34\n"
     ]
    },
    {
     "ename": "KeyboardInterrupt",
     "evalue": "",
     "output_type": "error",
     "traceback": []
    }
   ],
   "source": [
    "BATCH_SIZE = 64\n",
    "\n",
    "class Runner:\n",
    "    def __init__(self):\n",
    "        self.model = CTCModel().cuda()\n",
    "        self.loss = nn.CTCLoss(reduction='sum').cuda()\n",
    "        self.optimizer = optim.SGD(\n",
    "            self.model.parameters(),\n",
    "            lr = 0.0001, # It gets pretty unstable with larger lrs.\n",
    "            momentum = 0.9,\n",
    "            nesterov = True, # Everyone loves Nesterov\n",
    "            weight_decay = 0.001 # A little bit of regularization\n",
    "        )\n",
    "        self.scheduler = optim.lr_scheduler.ReduceLROnPlateau(\n",
    "            self.optimizer,\n",
    "            patience=6,\n",
    "            verbose=True\n",
    "        )\n",
    "        self.trainloss = []\n",
    "        self.validloss = []\n",
    "        \n",
    "    def predict(self, inputs):\n",
    "        # Enter evaluation mode\n",
    "        self.model.eval()\n",
    "        return self.model(inputs.clone().cuda())\n",
    "    \n",
    "    def one_batch_loss(self, inputs, outputs):\n",
    "        inputs = self.model(inputs.clone().cuda())\n",
    "        inputs = inputs.permute(1, 0, 2)\n",
    "        # sequence, batch, channels\n",
    "        # All sequences should be 32 long, because that's\n",
    "        # the size of the image after we pad to 256 pixels\n",
    "        # and then run it through the convolutions.\n",
    "        assert inputs.shape[0] == 32\n",
    "        input_lengths = torch.tensor(\n",
    "            [32 for i in range(inputs.shape[1])],\n",
    "            dtype=torch.int32\n",
    "        )\n",
    "        target, target_lengths = Runner.maketarget(outputs)\n",
    "        \n",
    "        loss = self.loss(inputs, target, input_lengths, target_lengths)\n",
    "        return loss\n",
    "    \n",
    "    @staticmethod\n",
    "    def maketarget(outputs):\n",
    "        classes = []\n",
    "        \"Concatenate all the outputs into one array\"\n",
    "        for string in outputs:\n",
    "            classes.extend([idx[c] for c in string])\n",
    "        lengths = [len(string) for string in outputs]\n",
    "        # We use int32 because Torch promises us that we\n",
    "        # can use special CuDNN code if we meet some\n",
    "        # requirements, and one of the requirements is\n",
    "        # that these tensors have type torch.int32.\n",
    "        return (\n",
    "            torch.tensor(classes, dtype=torch.int32),\n",
    "            torch.tensor(lengths, dtype=torch.int32)\n",
    "        )\n",
    "\n",
    "    def __train(self, epoch):\n",
    "        # set training mode just in case it has somehow been unset\n",
    "        self.model.train()\n",
    "        running_loss = 0.0\n",
    "        length = 0\n",
    "        #print(\"Example output:\")\n",
    "        import time\n",
    "        if epoch == 0:\n",
    "          start = time.time()\n",
    "        for i in range(100):\n",
    "          inputs, outputs = fh.get_batch_tensor(BATCH_SIZE)\n",
    "          self.optimizer.zero_grad()\n",
    "          loss = self.one_batch_loss(inputs, outputs)\n",
    "          loss.backward()\n",
    "          self.optimizer.step()\n",
    "          running_loss += loss.item()\n",
    "          length += BATCH_SIZE\n",
    "          if epoch == 0 and i == 10:\n",
    "            elapsed = time.time() - start\n",
    "            print(\"Each epoch should take about %.1f minutes.\" % (elapsed*10/60))\n",
    "            loss = None\n",
    "        trainingloss = running_loss / length\n",
    "        print(\"Epoch %d. Loss: %f\" % (epoch, trainingloss))\n",
    "        self.trainloss.append(trainingloss)\n",
    "    \n",
    "    def __valid(self, epoch):\n",
    "        running_loss = 0.0\n",
    "        length = 0\n",
    "        with torch.no_grad():\n",
    "            for i in range(100):\n",
    "                inputs, outputs = fh.get_batch_tensor(BATCH_SIZE, validation=True)\n",
    "                loss = self.one_batch_loss(inputs, outputs)\n",
    "                running_loss += loss.item()\n",
    "                length += BATCH_SIZE\n",
    "        validationloss = running_loss / length\n",
    "        self.scheduler.step(validationloss)\n",
    "        print(\"Validation loss: %f\" % validationloss)\n",
    "        self.validloss.append(validationloss)\n",
    "        file = \"checkpoint/checkpoint-%04d-%.2f\" % (epoch, validationloss)\n",
    "        torch.save({\n",
    "            'model': self.model.state_dict(),\n",
    "            'trainloss': self.trainloss,\n",
    "            'validloss': self.validloss\n",
    "        }, file)\n",
    "        print(\"Saved\", file)\n",
    "    \n",
    "    def load_from(self, file):\n",
    "        checkpoint = torch.load(file)\n",
    "        self.model.load_state_dict(checkpoint['model'])\n",
    "        self.trainloss, self.validloss = checkpoint['trainloss'], checkpoint['validloss']\n",
    "        \n",
    "    def run(self, epochs, resume_checkpoint=None):\n",
    "        if resume_checkpoint is None:\n",
    "            print(\"Training network from scratch\")\n",
    "            print(\"Once the validation loss stops improving, you should probably stop the model.\")\n",
    "            print(\"For this model, that seems to take around 50 epochs.\")\n",
    "        else:\n",
    "            self.load_from(resume_checkpoint)\n",
    "        for epoch in range(epochs):\n",
    "            self.__train(epoch)\n",
    "            self.__valid(epoch)\n",
    "\n",
    "blade = Runner()\n",
    "blade.run(100, resume_checkpoint=None)"
   ]
  },
  {
   "cell_type": "code",
   "execution_count": null,
   "metadata": {},
   "outputs": [],
   "source": []
  }
 ],
 "metadata": {
  "accelerator": "GPU",
  "colab": {
   "include_colab_link": true,
   "name": "ctc-test.ipynb",
   "provenance": [],
   "version": "0.3.2"
  },
  "kernelspec": {
   "display_name": "Python 3",
   "language": "python",
   "name": "python3"
  },
  "language_info": {
   "codemirror_mode": {
    "name": "ipython",
    "version": 3
   },
   "file_extension": ".py",
   "mimetype": "text/x-python",
   "name": "python",
   "nbconvert_exporter": "python",
   "pygments_lexer": "ipython3",
   "version": "3.7.3"
  }
 },
 "nbformat": 4,
 "nbformat_minor": 1
}
